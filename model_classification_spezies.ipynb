{
 "cells": [
  {
   "cell_type": "markdown",
   "metadata": {},
   "source": [
    "# Species classification"
   ]
  },
  {
   "cell_type": "code",
   "execution_count": 1,
   "metadata": {},
   "outputs": [],
   "source": [
    "import tensorflow as tf\n",
    "import os\n",
    "\n",
    "#os.environ[\"CUDA_DEVICE_ORDER\"]=\"PCI_BUS_ID\";\n",
    "#os.environ[\"CUDA_VISIBLE_DEVICES\"]=\"0\"; \n",
    "#gpus = tf.config.experimental.list_physical_devices('GPU')\n",
    "#tf.config.experimental.set_memory_growth(gpus[0], True)"
   ]
  },
  {
   "cell_type": "code",
   "execution_count": 2,
   "metadata": {},
   "outputs": [
    {
     "name": "stderr",
     "output_type": "stream",
     "text": [
      "WARNING:root:scikit-learn version 0.24.0 is not supported. Minimum required version: 0.17. Maximum required version: 0.19.2. Disabling scikit-learn conversion API.\n",
      "WARNING:root:TensorFlow version 2.4.0 detected. Last version known to be fully compatible is 2.3.1 .\n",
      "WARNING:root:Keras version 2.4.3 detected. Last version known to be fully compatible of Keras is 2.2.4 .\n"
     ]
    }
   ],
   "source": [
    "import keras\n",
    "import pandas as pd\n",
    "from PIL import Image\n",
    "import PIL\n",
    "#from keras_preprocessing.image import ImageDataGenerator\n",
    "#from sklearn.model_selection import train_test_split\n",
    "#from tensorflow.keras.layers import GlobalAveragePooling2D, Dense\n",
    "#from tensorflow.keras.models import Model\n",
    "from keras_preprocessing.image import ImageDataGenerator\n",
    "from sklearn.model_selection import train_test_split\n",
    "from keras.layers import GlobalAveragePooling2D, Dense\n",
    "from keras.models import Model\n",
    "import numpy as np\n",
    "import matplotlib.pyplot as plt\n",
    "import efficientnet.keras as efficientnet\n",
    "from keras_applications import *\n",
    "import glob\n",
    "from sklearn.utils import shuffle\n",
    "from tensorflow import keras\n",
    "from PIL import ImageFile\n",
    "\n",
    "\n",
    "# ensure that truncated images dont throw exception\n",
    "ImageFile.LOAD_TRUNCATED_IMAGES = True"
   ]
  },
  {
   "cell_type": "code",
   "execution_count": 5,
   "metadata": {},
   "outputs": [],
   "source": [
    "df_data = pd.read_csv('./train_data.csv')\n",
    "df_data_augmented = pd.read_csv('./train_data_augmented.csv')"
   ]
  },
  {
   "cell_type": "code",
   "execution_count": 6,
   "metadata": {},
   "outputs": [
    {
     "name": "stdout",
     "output_type": "stream",
     "text": [
      "(2200, 4) (457, 4)\n",
      "(10000, 4) (2800, 4)\n"
     ]
    }
   ],
   "source": [
    "df_train = df_data[:2200]\n",
    "df_test = df_data[2200:]\n",
    "\n",
    "df_train_augemented = df_data_augmented[:10000]\n",
    "df_test_augemented = df_data_augmented[10000:]\n",
    "\n",
    "print(df_train.shape, df_test.shape)\n",
    "\n",
    "print(df_train_augemented.shape, df_test_augemented.shape)"
   ]
  },
  {
   "cell_type": "code",
   "execution_count": 7,
   "metadata": {},
   "outputs": [
    {
     "data": {
      "text/plain": [
       "tomato     3309\n",
       "soybean    2577\n",
       "apple      1069\n",
       "peach      1012\n",
       "potato      645\n",
       "corn        595\n",
       "squash      413\n",
       "grape       380\n",
       "Name: label_species, dtype: int64"
      ]
     },
     "execution_count": 7,
     "metadata": {},
     "output_type": "execute_result"
    }
   ],
   "source": [
    "df_train_augemented['label_species'].value_counts()"
   ]
  },
  {
   "cell_type": "code",
   "execution_count": 8,
   "metadata": {},
   "outputs": [
    {
     "data": {
      "text/plain": [
       "tomato     897\n",
       "soybean    750\n",
       "peach      300\n",
       "apple      282\n",
       "potato     191\n",
       "corn       163\n",
       "squash     122\n",
       "grape       95\n",
       "Name: label_species, dtype: int64"
      ]
     },
     "execution_count": 8,
     "metadata": {},
     "output_type": "execute_result"
    }
   ],
   "source": [
    "df_test_augemented['label_species'].value_counts()"
   ]
  },
  {
   "cell_type": "code",
   "execution_count": 9,
   "metadata": {},
   "outputs": [],
   "source": [
    "# early stopping to prevent overfitting\n",
    "callback = tf.keras.callbacks.EarlyStopping(monitor='val_loss', patience=2)"
   ]
  },
  {
   "cell_type": "code",
   "execution_count": 10,
   "metadata": {},
   "outputs": [],
   "source": [
    "# ImageDataGenerator to pass data from df into NN\n",
    "# augmentation parameters in ImageDataGenerator are not nessecary due to manually augmentation of original images\n",
    "datagen = ImageDataGenerator(rescale=1./255,\n",
    "#                            horizontal_flip=True, \n",
    "#                            rotation_range=20,\n",
    "#                            shear_range=0.1\n",
    "                            )"
   ]
  },
  {
   "cell_type": "code",
   "execution_count": 11,
   "metadata": {},
   "outputs": [
    {
     "name": "stdout",
     "output_type": "stream",
     "text": [
      "Found 9993 validated image filenames belonging to 8 classes.\n"
     ]
    },
    {
     "name": "stderr",
     "output_type": "stream",
     "text": [
      "/home/vlba/anaconda3/envs/env_mv/lib/python3.6/site-packages/keras_preprocessing/image/dataframe_iterator.py:282: UserWarning: Found 7 invalid image filename(s) in x_col=\"filename\". These filename(s) will be ignored.\n",
      "  .format(n_invalid, x_col)\n"
     ]
    }
   ],
   "source": [
    "train_generator = datagen.flow_from_dataframe(\n",
    "    dataframe = df_train_augemented,\n",
    "    directory = None,\n",
    "    x_col = 'filename', \n",
    "    y_col = 'label_species', \n",
    "    class_mode = 'categorical',\n",
    "    target_size=(224,224), \n",
    "    batch_size=32)"
   ]
  },
  {
   "cell_type": "code",
   "execution_count": 12,
   "metadata": {},
   "outputs": [
    {
     "name": "stdout",
     "output_type": "stream",
     "text": [
      "Found 2797 validated image filenames belonging to 8 classes.\n"
     ]
    },
    {
     "name": "stderr",
     "output_type": "stream",
     "text": [
      "/home/vlba/anaconda3/envs/env_mv/lib/python3.6/site-packages/keras_preprocessing/image/dataframe_iterator.py:282: UserWarning: Found 3 invalid image filename(s) in x_col=\"filename\". These filename(s) will be ignored.\n",
      "  .format(n_invalid, x_col)\n"
     ]
    }
   ],
   "source": [
    "valid_generator = datagen.flow_from_dataframe(\n",
    "    dataframe = df_test_augemented,\n",
    "    directory = None,\n",
    "    x_col = 'filename', \n",
    "    y_col = 'label_species', \n",
    "    class_mode = 'categorical',\n",
    "    target_size=(224,224), \n",
    "    batch_size=1)"
   ]
  },
  {
   "cell_type": "code",
   "execution_count": 13,
   "metadata": {},
   "outputs": [],
   "source": [
    "STEP_SIZE_TRAIN=train_generator.n//train_generator.batch_size\n",
    "STEP_SIZE_VAL=valid_generator.n//valid_generator.batch_size"
   ]
  },
  {
   "cell_type": "code",
   "execution_count": 17,
   "metadata": {
    "scrolled": false
   },
   "outputs": [
    {
     "name": "stdout",
     "output_type": "stream",
     "text": [
      "mi\n",
      "Epoch 1/15\n",
      "312/312 [==============================] - 173s 543ms/step - loss: 0.9564 - accuracy: 0.6728 - val_loss: 0.4920 - val_accuracy: 0.8255\n",
      "Epoch 2/15\n",
      "312/312 [==============================] - 168s 534ms/step - loss: 0.4492 - accuracy: 0.8519 - val_loss: 0.3939 - val_accuracy: 0.8670\n",
      "Epoch 3/15\n",
      "312/312 [==============================] - 169s 539ms/step - loss: 0.3038 - accuracy: 0.8974 - val_loss: 0.3248 - val_accuracy: 0.8924\n",
      "Epoch 4/15\n",
      "312/312 [==============================] - 167s 534ms/step - loss: 0.2189 - accuracy: 0.9269 - val_loss: 0.2834 - val_accuracy: 0.9045\n",
      "Epoch 5/15\n",
      "312/312 [==============================] - 168s 536ms/step - loss: 0.1687 - accuracy: 0.9421 - val_loss: 0.2785 - val_accuracy: 0.9067\n",
      "Epoch 6/15\n",
      "312/312 [==============================] - 168s 537ms/step - loss: 0.1483 - accuracy: 0.9538 - val_loss: 0.3105 - val_accuracy: 0.9035\n",
      "Epoch 7/15\n",
      "312/312 [==============================] - 169s 539ms/step - loss: 0.1299 - accuracy: 0.9589 - val_loss: 0.2911 - val_accuracy: 0.9081\n",
      "Epoch 1/15\n",
      "312/312 [==============================] - 274s 866ms/step - loss: 1.0969 - accuracy: 0.7732 - val_loss: 0.3446 - val_accuracy: 0.8992\n",
      "Epoch 2/15\n",
      "312/312 [==============================] - 271s 867ms/step - loss: 0.2181 - accuracy: 0.9272 - val_loss: 0.2319 - val_accuracy: 0.9281\n",
      "Epoch 3/15\n",
      "312/312 [==============================] - 270s 863ms/step - loss: 0.1571 - accuracy: 0.9520 - val_loss: 0.1974 - val_accuracy: 0.9364\n",
      "Epoch 4/15\n",
      "312/312 [==============================] - 270s 864ms/step - loss: 0.1367 - accuracy: 0.9527 - val_loss: 0.2483 - val_accuracy: 0.9238\n",
      "Epoch 5/15\n",
      "312/312 [==============================] - 271s 863ms/step - loss: 0.1274 - accuracy: 0.9608 - val_loss: 0.2114 - val_accuracy: 0.9296\n"
     ]
    }
   ],
   "source": [
    "# use base model and append own classification layers on top\n",
    "base_model = efficientnet.EfficientNetB0(weights='imagenet', include_top=False,\n",
    "                                         backend=tf.keras.backend,\n",
    "                                         layers=tf.keras.layers,\n",
    "                                         models=tf.keras.models,\n",
    "                                         utils=tf.keras.utils)\n",
    "\n",
    "x = base_model.output\n",
    "x = GlobalAveragePooling2D()(x)\n",
    "x = Dense(1024,activation='relu')(x)  \n",
    "x = Dense(512,activation='relu')(x) \n",
    "preds = Dense(len(df_test_augemented['label_species'].value_counts()),activation='softmax')(x) \n",
    "model = Model(inputs = base_model.input, outputs = preds)\n",
    "\n",
    "\n",
    "# train only appended head \n",
    "for layer in base_model.layers:\n",
    "    layer.trainable = False\n",
    "\n",
    "model.compile(optimizer='Adam',\n",
    "              loss='categorical_crossentropy',\n",
    "              metrics=['accuracy'])\n",
    "\n",
    "history1 = model.fit_generator(\n",
    "    train_generator,\n",
    "    validation_data=valid_generator,\n",
    "    epochs=15,\n",
    "    steps_per_epoch=STEP_SIZE_TRAIN,\n",
    "    validation_steps = STEP_SIZE_VAL,\n",
    "    workers=8,\n",
    "    callbacks=[callback]\n",
    ")\n",
    "\n",
    "\n",
    "# train all except first 100 layers\n",
    "# len(model.layers) = 239\n",
    "for layer in model.layers[:100]:\n",
    "    layer.trainable = False\n",
    "for layer in model.layers[100:]:\n",
    "    layer.trainable = True\n",
    "    \n",
    "model.compile(optimizer='Adam',\n",
    "              loss='categorical_crossentropy',\n",
    "              metrics=['accuracy'])\n",
    "\n",
    "history2 = model.fit_generator(\n",
    "    train_generator,\n",
    "    validation_data=valid_generator,\n",
    "    epochs=15,\n",
    "    steps_per_epoch=STEP_SIZE_TRAIN,\n",
    "    validation_steps = STEP_SIZE_VAL,\n",
    "    workers=8, \n",
    "    callbacks=[callback]\n",
    ")"
   ]
  },
  {
   "cell_type": "code",
   "execution_count": 18,
   "metadata": {},
   "outputs": [],
   "source": [
    "model.save('model_species_reduces_labels_augmented.h5')"
   ]
  },
  {
   "cell_type": "markdown",
   "metadata": {},
   "source": [
    "# Evaluation"
   ]
  },
  {
   "cell_type": "markdown",
   "metadata": {},
   "source": [
    "### plots"
   ]
  },
  {
   "cell_type": "code",
   "execution_count": 19,
   "metadata": {},
   "outputs": [
    {
     "data": {
      "image/png": "[encoded data removed]",
      "text/plain": [
       "<Figure size 432x288 with 1 Axes>"
      ]
     },
     "metadata": {
      "needs_background": "light"
     },
     "output_type": "display_data"
    },
    {
     "data": {
      "image/png": "[encoded data removed]",
      "text/plain": [
       "<Figure size 432x288 with 1 Axes>"
      ]
     },
     "metadata": {
      "needs_background": "light"
     },
     "output_type": "display_data"
    },
    {
     "data": {
      "text/plain": [
       "<Figure size 432x288 with 0 Axes>"
      ]
     },
     "metadata": {},
     "output_type": "display_data"
    }
   ],
   "source": [
    "#plot acc\n",
    "plt.plot(history1.history['accuracy'])\n",
    "plt.plot(history1.history['val_accuracy'])\n",
    "plt.title('model accuracy')\n",
    "plt.ylabel('accuracy')\n",
    "plt.xlabel('epoch')\n",
    "plt.legend(['train', 'val'], loc='upper left')\n",
    "plt.show()\n",
    "plt.savefig('species_acc_hist1.png')\n",
    "\n",
    "plt.plot(history2.history['accuracy'])\n",
    "plt.plot(history2.history['val_accuracy'])\n",
    "plt.title('model accuracy')\n",
    "plt.ylabel('accuracy')\n",
    "plt.xlabel('epoch')\n",
    "plt.legend(['train', 'val'], loc='upper left')\n",
    "plt.show()\n",
    "plt.savefig('species_acc_hist2.png')"
   ]
  },
  {
   "cell_type": "code",
   "execution_count": 20,
   "metadata": {},
   "outputs": [
    {
     "data": {
      "image/png": "[encoded data removed]",
      "text/plain": [
       "<Figure size 432x288 with 1 Axes>"
      ]
     },
     "metadata": {
      "needs_background": "light"
     },
     "output_type": "display_data"
    },
    {
     "data": {
      "image/png": "[encoded data removed]",
      "text/plain": [
       "<Figure size 432x288 with 1 Axes>"
      ]
     },
     "metadata": {
      "needs_background": "light"
     },
     "output_type": "display_data"
    }
   ],
   "source": [
    "#plot loss\n",
    "plt.plot(history1.history['loss'])\n",
    "plt.plot(history1.history['val_loss'])\n",
    "plt.title('model loss')\n",
    "plt.ylabel('loss')\n",
    "plt.xlabel('epoch')\n",
    "plt.legend(['train', 'val'], loc='upper left')\n",
    "plt.show()\n",
    "plt.savefig('species_loss_hist1.png')\n",
    "\n",
    "plt.plot(history2.history['loss'])\n",
    "plt.plot(history2.history['val_loss'])\n",
    "plt.title('model loss')\n",
    "plt.ylabel('loss')\n",
    "plt.xlabel('epoch')\n",
    "plt.legend(['train', 'val'], loc='upper left')\n",
    "plt.savefig('foo.png')\n",
    "plt.savefig('species_loss_hist2.png')"
   ]
  },
  {
   "cell_type": "markdown",
   "metadata": {},
   "source": [
    "### confusion matrix"
   ]
  },
  {
   "cell_type": "code",
   "execution_count": 21,
   "metadata": {},
   "outputs": [],
   "source": [
    "import efficientnet.tfkeras\n",
    "from tensorflow.keras.models import load_model\n",
    "model = load_model('./model_species_reduces_labels_augmented.h5')"
   ]
  },
  {
   "cell_type": "code",
   "execution_count": 22,
   "metadata": {},
   "outputs": [],
   "source": [
    "y_true = []\n",
    "y_pred = []\n",
    "\n",
    "label_map = (valid_generator.class_indices)\n",
    "for index, row in df_test_augemented.iterrows():\n",
    "    im = Image.open(row[\"filename\"]).convert('RGB') \n",
    "    im = im.resize((224,224))\n",
    "    im = np.asarray(im).astype(float) / 255.\n",
    "    y_true.append(row['label_species'])\n",
    "    pred = model.predict(im.reshape((1,)+ (224,224,3)))\n",
    "    y_pred.append(list(label_map.keys())[list(label_map.values()).index(np.argmax(pred[0]))])"
   ]
  },
  {
   "cell_type": "code",
   "execution_count": 23,
   "metadata": {},
   "outputs": [
    {
     "name": "stdout",
     "output_type": "stream",
     "text": [
      "Confusion Matrix\n",
      "[[253   1   5   7   3   5   0   8]\n",
      " [  1 152   0   1   4   4   0   1]\n",
      " [  0   0  89   1   0   0   0   5]\n",
      " [ 11   0   1 266   3   4   2  13]\n",
      " [  2   0   0   4 159   0   0  26]\n",
      " [  0   0   0   4  36 688   0  22]\n",
      " [  3   0   0   0   2   0 109   8]\n",
      " [  3   0   1  26  13   6   0 848]]\n",
      "Classification Report\n",
      "              precision    recall  f1-score   support\n",
      "\n",
      "       apple       0.93      0.90      0.91       282\n",
      "        corn       0.99      0.93      0.96       163\n",
      "       grape       0.93      0.94      0.93        95\n",
      "       peach       0.86      0.89      0.87       300\n",
      "      potato       0.72      0.83      0.77       191\n",
      "     soybean       0.97      0.92      0.94       750\n",
      "      squash       0.98      0.89      0.94       122\n",
      "      tomato       0.91      0.95      0.93       897\n",
      "\n",
      "    accuracy                           0.92      2800\n",
      "   macro avg       0.91      0.91      0.91      2800\n",
      "weighted avg       0.92      0.92      0.92      2800\n",
      "\n"
     ]
    }
   ],
   "source": [
    "from sklearn.metrics import classification_report, confusion_matrix\n",
    "\n",
    "print('Confusion Matrix')\n",
    "print(confusion_matrix(y_true, y_pred))\n",
    "\n",
    "print('Classification Report')\n",
    "print(classification_report(y_true, y_pred))"
   ]
  },
  {
   "cell_type": "code",
   "execution_count": null,
   "metadata": {},
   "outputs": [],
   "source": []
  }
 ],
 "metadata": {
  "kernelspec": {
   "display_name": "env_mv",
   "language": "python",
   "name": "env_mv"
  },
  "language_info": {
   "codemirror_mode": {
    "name": "ipython",
    "version": 3
   },
   "file_extension": ".py",
   "mimetype": "text/x-python",
   "name": "python",
   "nbconvert_exporter": "python",
   "pygments_lexer": "ipython3",
   "version": "3.6.12"
  }
 },
 "nbformat": 4,
 "nbformat_minor": 4
}
