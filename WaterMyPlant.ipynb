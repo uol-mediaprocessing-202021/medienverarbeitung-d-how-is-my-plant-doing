{
  "nbformat": 4,
  "nbformat_minor": 0,
  "metadata": {
    "colab": {
      "name": "WaterMyPlant.ipynb",
      "provenance": [],
      "collapsed_sections": [],
      "authorship_tag": "ABX9TyNVhP7VOjaDjnArL4Py9+AN",
      "include_colab_link": true
    },
    "kernelspec": {
      "name": "python3",
      "display_name": "Python 3"
    }
  },
  "cells": [
    {
      "cell_type": "markdown",
      "metadata": {
        "id": "view-in-github",
        "colab_type": "text"
      },
      "source": [
        "<a href=\"https://colab.research.google.com/github/uol-mediaprocessing-202021/medienverarbeitung-d-how-is-my-plant-doing/blob/master/WaterMyPlant.ipynb\" target=\"_parent\"><img src=\"https://colab.research.google.com/assets/colab-badge.svg\" alt=\"Open In Colab\"/></a>"
      ]
    },
    {
      "cell_type": "markdown",
      "metadata": {
        "id": "eLHq4kMzC8GT"
      },
      "source": [
        "# How is my plant doing? "
      ]
    },
    {
      "cell_type": "code",
      "metadata": {
        "id": "vAo4d4WxB-H9"
      },
      "source": [
        "#@title Trainingsepochen { run: \"auto\" }\n",
        "epochs = 50 #@param [\"10\", \"30\", \"50\"] {type:\"raw\"}"
      ],
      "execution_count": null,
      "outputs": []
    },
    {
      "cell_type": "markdown",
      "metadata": {
        "id": "vVzqwYNrDFDU"
      },
      "source": [
        "# Geplantes Vorgehen\n",
        "\n",
        "Optionen Aufgabenstellung: \n",
        "1. Erkennen ob die Pflanze unter Wassermangel leidet \n",
        "2. Erkennen ob die Pflanze unter einer bestimmten Krankheit leidet\n",
        "\n",
        "1. Datensätze sichten\n",
        "2. Object-Detection für Blätter trainieren\n",
        "  1. Datensatz mit Bildern von Blättern suchen\n",
        "  2. Segmentations erstellen mit Annotationen\n",
        "  3. OD trainieren\n",
        "3. Classifier CNN trainieren \n",
        "  1. Klassen definieren\n",
        "  2. Bilder labeln\n",
        "  3. CNN trainieren\n"
      ]
    },
    {
      "cell_type": "markdown",
      "metadata": {
        "id": "adE-nJL6EzfA"
      },
      "source": [
        "# Gefundene Datensätze\n",
        "\n",
        "* https://github.com/pratikkayal/PlantDoc-Dataset JP\n",
        "\n",
        "\n",
        "\n",
        "* https://data.mendeley.com/datasets/hb74ynkjcn/1 Dennis\n",
        "\n",
        "* https://www.plant-phenotyping.org/datasets-home JP\n",
        "\n",
        "* https://en.wikipedia.org/wiki/List_of_datasets_for_machine-learning_research#Plant Sandro\n",
        "\n",
        "* https://github.com/deepakHonakeri05/Leaf-Disease-Classifier Dennis\n",
        "\n",
        "* https://github.com/spMohanty/PlantVillage-Dataset JP\n",
        "\n",
        "\n",
        "Pflanzenkrankheiten: \n",
        "* https://www.kaggle.com/emmarex/plantdisease Sandro\n",
        "\n",
        "\n",
        "\n",
        "Aussortiert: \n",
        "\n",
        "* https://www.tensorflow.org/datasets/catalog/plant_leaves/ Sandro "
      ]
    },
    {
      "cell_type": "markdown",
      "metadata": {
        "id": "IO1LGfv3HXza"
      },
      "source": [
        "# Paper\n",
        "\n",
        "* https://openaccess.thecvf.com/content_CVPRW_2019/papers/CVPPP/Kuznichov_Data_Augmentation_for_Leaf_Segmentation_and_Counting_Tasks_in_Rosette_CVPRW_2019_paper.pdf Dennis \n",
        "\n",
        "* https://openaccess.thecvf.com/content_ICCV_2017_workshops/papers/w29/Dobrescu_Leveraging_Multiple_Datasets_ICCV_2017_paper.pdf JP"
      ]
    },
    {
      "cell_type": "code",
      "metadata": {
        "id": "O4cO1x79Had_"
      },
      "source": [
        ""
      ],
      "execution_count": null,
      "outputs": []
    }
  ]
}