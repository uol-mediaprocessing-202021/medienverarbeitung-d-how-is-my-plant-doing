{
  "nbformat": 4,
  "nbformat_minor": 0,
  "metadata": {
    "colab": {
      "name": "WaterMyPlant.ipynb",
      "provenance": [],
      "collapsed_sections": []
    },
    "kernelspec": {
      "name": "python3",
      "display_name": "Python 3"
    }
  },
  "cells": [
    {
      "cell_type": "markdown",
      "metadata": {
        "id": "eLHq4kMzC8GT"
      },
      "source": [
        "# How is my plant doing? "
      ]
    },
    {
      "cell_type": "code",
      "metadata": {
        "id": "vAo4d4WxB-H9"
      },
      "source": [
        "#@title Trainingsepochen { run: \"auto\" }\n",
        "epochs = 50 #@param [\"10\", \"30\", \"50\"] {type:\"raw\"}"
      ],
      "execution_count": null,
      "outputs": []
    },
    {
      "cell_type": "markdown",
      "metadata": {
        "id": "vVzqwYNrDFDU"
      },
      "source": [
        "# Geplantes Vorgehen\n",
        "\n",
        "Optionen Aufgabenstellung: \n",
        "1. Erkennen ob die Pflanze unter Wassermangel leidet \n",
        "2. Erkennen ob die Pflanze unter einer bestimmten Krankheit leidet\n",
        "\n",
        "1. Datensätze sichten\n",
        "2. Object-Detection für Blätter trainieren\n",
        "  1. Datensatz mit Bildern von Blättern suchen\n",
        "  2. Segmentations erstellen mit Annotationen\n",
        "  3. OD trainieren\n",
        "3. Classifier CNN trainieren \n",
        "  1. Klassen definieren\n",
        "  2. Bilder labeln\n",
        "  3. CNN trainieren\n"
      ]
    },
    {
      "cell_type": "markdown",
      "metadata": {
        "id": "adE-nJL6EzfA"
      },
      "source": [
        "# Gefundene Datensätze\n",
        "\n",
        "* https://github.com/pratikkayal/PlantDoc-Dataset\n",
        "\n",
        "* https://www.tensorflow.org/datasets/catalog/plant_leaves /\n",
        "\n",
        "* https://data.mendeley.com/datasets/hb74ynkjcn/1\n",
        "\n",
        "* https://www.plant-phenotyping.org/datasets-home\n",
        "\n",
        "* https://en.wikipedia.org/wiki/List_of_datasets_for_machine-learning_research#Plant\n",
        "\n",
        "* https://github.com/deepakHonakeri05/Leaf-Disease-Classifier\n",
        "\n",
        "* https://github.com/spMohanty/PlantVillage-Dataset\n",
        "\n",
        "Pflanzenkrankheiten: \n",
        "* https://www.kaggle.com/emmarex/plantdisease\n",
        "\n"
      ]
    },
    {
      "cell_type": "markdown",
      "metadata": {
        "id": "IO1LGfv3HXza"
      },
      "source": [
        "# Paper\n",
        "\n",
        "* https://openaccess.thecvf.com/content_CVPRW_2019/papers/CVPPP/Kuznichov_Data_Augmentation_for_Leaf_Segmentation_and_Counting_Tasks_in_Rosette_CVPRW_2019_paper.pdf\n",
        "* https://openaccess.thecvf.com/content_ICCV_2017_workshops/papers/w29/Dobrescu_Leveraging_Multiple_Datasets_ICCV_2017_paper.pdf\n",
        "* "
      ]
    },
    {
      "cell_type": "code",
      "metadata": {
        "id": "O4cO1x79Had_"
      },
      "source": [
        ""
      ],
      "execution_count": null,
      "outputs": []
    }
  ]
}
