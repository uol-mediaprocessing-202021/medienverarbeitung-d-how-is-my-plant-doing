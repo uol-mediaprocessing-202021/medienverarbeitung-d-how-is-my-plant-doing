{
 "cells": [
  {
   "cell_type": "markdown",
   "metadata": {},
   "source": [
    "# Data Preparation\n",
    "This notebook is used prepare the data for training. Invalid images are removed and labels are created from filenames. The labels are also summarized because some were redundant. <br>\n",
    "After training the first models, some classes were removed due to poor performance."
   ]
  },
  {
   "cell_type": "code",
   "execution_count": 1,
   "metadata": {},
   "outputs": [],
   "source": [
    "import os\n",
    "import pandas as pd\n",
    "from PIL import Image\n",
    "import glob\n",
    "from sklearn.utils import shuffle\n",
    "import numpy as np\n",
    "from PIL import ImageFile"
   ]
  },
  {
   "cell_type": "markdown",
   "metadata": {},
   "source": [
    "### remove invalid images"
   ]
  },
  {
   "cell_type": "code",
   "execution_count": 2,
   "metadata": {},
   "outputs": [],
   "source": [
    "for file in glob.glob('/home/dschulte/Medienverarbeitung/*/*'):\n",
    "    try: \n",
    "        Image.open(file)\n",
    "        \n",
    "    except:\n",
    "        print('file: ' + file + ' was not valid.')\n",
    "        os.remove(file)"
   ]
  },
  {
   "cell_type": "code",
   "execution_count": 3,
   "metadata": {},
   "outputs": [],
   "source": [
    "for file in glob.glob('/home/jpawick/Medienverarbeitung/augmented_images/*'):\n",
    "    try: \n",
    "        Image.open(file)\n",
    "        \n",
    "    except:\n",
    "        print('file: ' + file + ' was not valid.')\n",
    "        os.remove(file)"
   ]
  },
  {
   "cell_type": "markdown",
   "metadata": {},
   "source": [
    "### create labels from filenames for not augmented images"
   ]
  },
  {
   "cell_type": "code",
   "execution_count": 4,
   "metadata": {},
   "outputs": [],
   "source": [
    "df_data = pd.DataFrame()\n",
    "df_data_augemented = pd.DataFrame()"
   ]
  },
  {
   "cell_type": "code",
   "execution_count": 5,
   "metadata": {},
   "outputs": [],
   "source": [
    "list_paths = ['/home/jpawick/Medienverarbeitung/done/*/*', \n",
    "              '/home/swehrhahn/Medienverarbeitung/*/*', \n",
    "              '/home/dschulte/Medienverarbeitung/*/*']\n",
    "path_augmentated = '/home/jpawick/Medienverarbeitung/augmented_images/*'"
   ]
  },
  {
   "cell_type": "code",
   "execution_count": 6,
   "metadata": {},
   "outputs": [],
   "source": [
    "list_file_names = []\n",
    "list_label_species = []\n",
    "list_label_diseases = []\n",
    "\n",
    "for path in list_paths:\n",
    "#    print(path)\n",
    "    for path_img in glob.glob(path):\n",
    "        list_file_names.append(path_img)\n",
    "        list_label_diseases.append(path_img.replace('/done', '').replace(' ', '_').split('/Medienverarbeitung/')[1].split('/')[0].replace('_done', ''))\n",
    "        list_label_species.append(path_img.replace('/done', '').split('/Medienverarbeitung/')[1].split('/')[0].replace('_', ' ').split()[0])\n",
    "        \n",
    "df_data['filename'] = list_file_names\n",
    "df_data['label_species'] = list_label_species\n",
    "df_data['label_disease'] = list_label_diseases"
   ]
  },
  {
   "cell_type": "code",
   "execution_count": 7,
   "metadata": {},
   "outputs": [
    {
     "data": {
      "text/html": [
       "<div>\n",
       "<style scoped>\n",
       "    .dataframe tbody tr th:only-of-type {\n",
       "        vertical-align: middle;\n",
       "    }\n",
       "\n",
       "    .dataframe tbody tr th {\n",
       "        vertical-align: top;\n",
       "    }\n",
       "\n",
       "    .dataframe thead th {\n",
       "        text-align: right;\n",
       "    }\n",
       "</style>\n",
       "<table border=\"1\" class=\"dataframe\">\n",
       "  <thead>\n",
       "    <tr style=\"text-align: right;\">\n",
       "      <th></th>\n",
       "      <th>filename</th>\n",
       "      <th>label_species</th>\n",
       "      <th>label_disease</th>\n",
       "    </tr>\n",
       "  </thead>\n",
       "  <tbody>\n",
       "    <tr>\n",
       "      <th>0</th>\n",
       "      <td>/home/jpawick/Medienverarbeitung/done/apple_sc...</td>\n",
       "      <td>apple</td>\n",
       "      <td>apple_scab_leaf</td>\n",
       "    </tr>\n",
       "    <tr>\n",
       "      <th>1</th>\n",
       "      <td>/home/jpawick/Medienverarbeitung/done/apple_sc...</td>\n",
       "      <td>apple</td>\n",
       "      <td>apple_scab_leaf</td>\n",
       "    </tr>\n",
       "    <tr>\n",
       "      <th>2</th>\n",
       "      <td>/home/jpawick/Medienverarbeitung/done/apple_sc...</td>\n",
       "      <td>apple</td>\n",
       "      <td>apple_scab_leaf</td>\n",
       "    </tr>\n",
       "    <tr>\n",
       "      <th>3</th>\n",
       "      <td>/home/jpawick/Medienverarbeitung/done/apple_sc...</td>\n",
       "      <td>apple</td>\n",
       "      <td>apple_scab_leaf</td>\n",
       "    </tr>\n",
       "    <tr>\n",
       "      <th>4</th>\n",
       "      <td>/home/jpawick/Medienverarbeitung/done/apple_sc...</td>\n",
       "      <td>apple</td>\n",
       "      <td>apple_scab_leaf</td>\n",
       "    </tr>\n",
       "  </tbody>\n",
       "</table>\n",
       "</div>"
      ],
      "text/plain": [
       "                                            filename label_species  \\\n",
       "0  /home/jpawick/Medienverarbeitung/done/apple_sc...         apple   \n",
       "1  /home/jpawick/Medienverarbeitung/done/apple_sc...         apple   \n",
       "2  /home/jpawick/Medienverarbeitung/done/apple_sc...         apple   \n",
       "3  /home/jpawick/Medienverarbeitung/done/apple_sc...         apple   \n",
       "4  /home/jpawick/Medienverarbeitung/done/apple_sc...         apple   \n",
       "\n",
       "     label_disease  \n",
       "0  apple_scab_leaf  \n",
       "1  apple_scab_leaf  \n",
       "2  apple_scab_leaf  \n",
       "3  apple_scab_leaf  \n",
       "4  apple_scab_leaf  "
      ]
     },
     "execution_count": 7,
     "metadata": {},
     "output_type": "execute_result"
    }
   ],
   "source": [
    "df_data.head()"
   ]
  },
  {
   "cell_type": "markdown",
   "metadata": {},
   "source": [
    "### create labels from filenames for augmented images"
   ]
  },
  {
   "cell_type": "code",
   "execution_count": 9,
   "metadata": {},
   "outputs": [],
   "source": [
    "list_file_names = []\n",
    "list_label_species = []\n",
    "list_label_diseases = []\n",
    "\n",
    "to_replace_prefixes = ['rotated_1', 'rotated_2', 'flip_h_', 'flip_v_']\n",
    "\n",
    "for path_img in glob.glob(path_augmentated):\n",
    "    list_file_names.append(path_img)\n",
    "    \n",
    "    label_species = path_img \n",
    "    for to_replace in to_replace_prefixes:\n",
    "        label_species = label_species.replace(to_replace, '')\n",
    "    list_label_species.append(label_species.split('augmented_images/')[1].replace(' ', '_').split('_')[0])\n",
    "    \n",
    "    label_disease = label_species.split('augmented_images/')[1].split('_Image')[0].replace(' ', '_').replace('rotated_2', '')\n",
    "    list_label_diseases.append(label_disease) \n",
    " \n",
    "df_data_augemented['filename'] = list_file_names\n",
    "df_data_augemented['label_species'] = list_label_species\n",
    "df_data_augemented['label_disease'] = list_label_diseases "
   ]
  },
  {
   "cell_type": "markdown",
   "metadata": {},
   "source": [
    "### summarize labels to reduce redundancy "
   ]
  },
  {
   "cell_type": "code",
   "execution_count": 12,
   "metadata": {},
   "outputs": [],
   "source": [
    "# summarize labels for diseases\n",
    "list_label_diseases = df_data['label_disease']\n",
    "list_label_diseases_summarized = []\n",
    "\n",
    "for label in list_label_diseases:\n",
    "    if 'rust' in label:\n",
    "        list_label_diseases_summarized.append('rust_leaf')\n",
    "    elif 'blight' in label: \n",
    "        list_label_diseases_summarized.append('leaf_blight')\n",
    "    elif label in ['strawberry_leaf', 'apple_leaf', 'tomato_leaf', 'soybean_leaf', 'potato_leaf', 'grape_leaf', 'peach_leaf', \n",
    "                   'squash_leaf', 'raspberry_leaf']:\n",
    "        list_label_diseases_summarized.append('healthy')    \n",
    "    else: \n",
    "        list_label_diseases_summarized.append(label)\n",
    "df_data['label_diseases_summarized'] = list_label_diseases_summarized\n",
    "\n",
    "list_label_diseases_augemented = df_data_augemented['label_disease']\n",
    "list_label_diseases_augemented_summarized = []\n",
    "\n",
    "for label in list_label_diseases_augemented:\n",
    "    if 'rust' in label:\n",
    "        list_label_diseases_augemented_summarized.append('rust_leaf')\n",
    "    elif 'blight' in label: \n",
    "        list_label_diseases_augemented_summarized.append('leaf_blight')\n",
    "    elif label in ['strawberry_leaf', 'apple_leaf', 'tomato_leaf', 'soybean_leaf', 'potato_leaf', 'grape_leaf', 'peach_leaf', \n",
    "                   'squash_leaf', 'raspberry_leaf']:\n",
    "        list_label_diseases_augemented_summarized.append('healthy')    \n",
    "    else: \n",
    "        list_label_diseases_augemented_summarized.append(label) \n",
    "df_data_augemented['label_diseases_summarized'] = list_label_diseases_augemented_summarized"
   ]
  },
  {
   "cell_type": "markdown",
   "metadata": {},
   "source": [
    "### remove classes that performed bad"
   ]
  },
  {
   "cell_type": "code",
   "execution_count": 13,
   "metadata": {},
   "outputs": [],
   "source": [
    "# remove some species\n",
    "df_data = df_data[~df_data.label_species.isin(['bell', 'strawberry', 'raspberry'])]\n",
    "df_data_augemented = df_data_augemented[~df_data_augemented.label_species.isin(['bell', 'strawberry', 'raspberry'])]\n",
    "\n",
    "#remove diseases \n",
    "df_data = df_data[~df_data.label_diseases_summarized.isin([])]\n",
    "df_data_augemented = df_data_augemented[~df_data_augemented.label_diseases_summarized.isin([])]"
   ]
  },
  {
   "cell_type": "markdown",
   "metadata": {},
   "source": [
    "### distribution of the labels"
   ]
  },
  {
   "cell_type": "code",
   "execution_count": 14,
   "metadata": {},
   "outputs": [
    {
     "data": {
      "text/plain": [
       "tomato     4206\n",
       "soybean    3327\n",
       "apple      1351\n",
       "peach      1312\n",
       "potato      836\n",
       "corn        758\n",
       "squash      535\n",
       "grape       475\n",
       "Name: label_species, dtype: int64"
      ]
     },
     "execution_count": 14,
     "metadata": {},
     "output_type": "execute_result"
    }
   ],
   "source": [
    "df_data_augemented['label_species'].value_counts()"
   ]
  },
  {
   "cell_type": "code",
   "execution_count": 15,
   "metadata": {},
   "outputs": [
    {
     "data": {
      "text/plain": [
       "rust_leaf                     2896\n",
       "healthy                       2865\n",
       "leaf_blight                   2421\n",
       "tomato_leaf_spot              1301\n",
       "peach_leaf_bacterial_spot      675\n",
       "tomato_mold_leaf               600\n",
       "squash_powdery_mildew_leaf     505\n",
       "peach_leaf_curl                412\n",
       "tomato_leaf_mosaic_virus       355\n",
       "apple_scab_leaf                305\n",
       "tomato_leaf_yellow_virus       260\n",
       "grape_leaf_black_rot           205\n",
       "Name: label_diseases_summerized, dtype: int64"
      ]
     },
     "execution_count": 15,
     "metadata": {},
     "output_type": "execute_result"
    }
   ],
   "source": [
    "df_data_augemented['label_diseases_summarized'].value_counts()"
   ]
  },
  {
   "cell_type": "code",
   "execution_count": 16,
   "metadata": {},
   "outputs": [
    {
     "data": {
      "text/plain": [
       "(2657, 4)"
      ]
     },
     "execution_count": 16,
     "metadata": {},
     "output_type": "execute_result"
    }
   ],
   "source": [
    "df_data.shape"
   ]
  },
  {
   "cell_type": "code",
   "execution_count": 17,
   "metadata": {},
   "outputs": [
    {
     "data": {
      "text/plain": [
       "(12800, 4)"
      ]
     },
     "execution_count": 17,
     "metadata": {},
     "output_type": "execute_result"
    }
   ],
   "source": [
    "df_data_augemented.shape"
   ]
  },
  {
   "cell_type": "code",
   "execution_count": 18,
   "metadata": {},
   "outputs": [],
   "source": [
    "df_data = shuffle(df_data)\n",
    "df_data_augemented = shuffle(df_data_augemented)"
   ]
  },
  {
   "cell_type": "code",
   "execution_count": 19,
   "metadata": {},
   "outputs": [],
   "source": [
    "df_data.to_csv('train_data.csv', index=False)\n",
    "df_data_augemented.to_csv('train_data_augmented.csv', index=False)"
   ]
  },
  {
   "cell_type": "code",
   "execution_count": null,
   "metadata": {},
   "outputs": [],
   "source": []
  }
 ],
 "metadata": {
  "kernelspec": {
   "display_name": "env_pattern_ex",
   "language": "python",
   "name": "env_pattern_ex"
  },
  "language_info": {
   "codemirror_mode": {
    "name": "ipython",
    "version": 3
   },
   "file_extension": ".py",
   "mimetype": "text/x-python",
   "name": "python",
   "nbconvert_exporter": "python",
   "pygments_lexer": "ipython3",
   "version": "3.7.6"
  }
 },
 "nbformat": 4,
 "nbformat_minor": 4
}
