{
 "cells": [
  {
   "cell_type": "markdown",
   "metadata": {},
   "source": [
    "# Diseases Classification"
   ]
  },
  {
   "cell_type": "code",
   "execution_count": 2,
   "metadata": {},
   "outputs": [],
   "source": [
    "import tensorflow as tf\n",
    "import os\n",
    "\n",
    "#os.environ[\"CUDA_VISIBLE_DEVICES\"]=\"0\"\n",
    "#gpus = tf.config.experimental.list_physical_devices('GPU')\n",
    "#tf.config.experimental.set_memory_growth(gpus[0], True)"
   ]
  },
  {
   "cell_type": "code",
   "execution_count": 11,
   "metadata": {},
   "outputs": [
    {
     "name": "stderr",
     "output_type": "stream",
     "text": [
      "WARNING:root:scikit-learn version 0.24.0 is not supported. Minimum required version: 0.17. Maximum required version: 0.19.2. Disabling scikit-learn conversion API.\n",
      "WARNING:root:TensorFlow version 2.4.0 detected. Last version known to be fully compatible is 2.3.1 .\n",
      "WARNING:root:Keras version 2.4.3 detected. Last version known to be fully compatible of Keras is 2.2.4 .\n"
     ]
    }
   ],
   "source": [
    "import tensorflow as tf\n",
    "import keras\n",
    "import pandas as pd\n",
    "from PIL import Image\n",
    "import PIL\n",
    "#from keras_preprocessing.image import ImageDataGenerator\n",
    "#from sklearn.model_selection import train_test_split\n",
    "#from tensorflow.keras.layers import GlobalAveragePooling2D, Dense\n",
    "#from tensorflow.keras.models import Model\n",
    "from keras_preprocessing.image import ImageDataGenerator\n",
    "from sklearn.model_selection import train_test_split\n",
    "from keras.layers import GlobalAveragePooling2D, Dense\n",
    "from keras.models import Model\n",
    "import numpy as np\n",
    "import matplotlib.pyplot as plt\n",
    "import efficientnet.keras as efficientnet\n",
    "from keras_applications import *\n",
    "import glob\n",
    "from sklearn.utils import shuffle\n",
    "from tensorflow import keras\n",
    "from PIL import ImageFile\n",
    "\n",
    "# ensure that truncated images dont throw exception\n",
    "ImageFile.LOAD_TRUNCATED_IMAGES = True\n",
    "*"
   ]
  },
  {
   "cell_type": "markdown",
   "metadata": {},
   "source": [
    "# remove classes with bad performance"
   ]
  },
  {
   "cell_type": "code",
   "execution_count": 16,
   "metadata": {},
   "outputs": [],
   "source": [
    "df_data = pd.read_csv('./train_data.csv')\n",
    "df_data_augmented = pd.read_csv('./train_data_augmented.csv')"
   ]
  },
  {
   "cell_type": "code",
   "execution_count": 17,
   "metadata": {},
   "outputs": [],
   "source": [
    "df_data_augmented = df_data_augmented[~df_data_augmented.label_diseases_summerized.isin(['tomato_leaf_mosaic_virus', 'tomato_leaf_yellow_virus'])]"
   ]
  },
  {
   "cell_type": "code",
   "execution_count": 18,
   "metadata": {},
   "outputs": [
    {
     "name": "stdout",
     "output_type": "stream",
     "text": [
      "(2200, 4) (457, 4)\n",
      "(10000, 4) (2185, 4)\n"
     ]
    }
   ],
   "source": [
    "df_train = df_data[:2200]\n",
    "df_test = df_data[2200:]\n",
    "\n",
    "df_train_augemented = df_data_augmented[:10000]\n",
    "df_test_augemented = df_data_augmented[10000:]\n",
    "\n",
    "print(df_train.shape, df_test.shape)\n",
    "\n",
    "print(df_train_augemented.shape, df_test_augemented.shape)"
   ]
  },
  {
   "cell_type": "code",
   "execution_count": 19,
   "metadata": {},
   "outputs": [],
   "source": [
    "# early stopping to prevent overfitting\n",
    "callback = tf.keras.callbacks.EarlyStopping(monitor='val_loss', patience=2)"
   ]
  },
  {
   "cell_type": "code",
   "execution_count": 20,
   "metadata": {},
   "outputs": [],
   "source": [
    "# ImageDataGenerator to pass data from df into NN\n",
    "# augmentation parameters in ImageDataGenerator are not nessecary due to manually augmentation of original images\n",
    "datagen = ImageDataGenerator(rescale=1./255,\n",
    "#                            horizontal_flip=True, \n",
    "#                            rotation_range=20,\n",
    "#                            shear_range=0.1\n",
    "                            )"
   ]
  },
  {
   "cell_type": "code",
   "execution_count": 21,
   "metadata": {},
   "outputs": [
    {
     "name": "stdout",
     "output_type": "stream",
     "text": [
      "Found 9993 validated image filenames belonging to 10 classes.\n"
     ]
    },
    {
     "name": "stderr",
     "output_type": "stream",
     "text": [
      "/home/vlba/anaconda3/envs/env_mv/lib/python3.6/site-packages/keras_preprocessing/image/dataframe_iterator.py:282: UserWarning: Found 7 invalid image filename(s) in x_col=\"filename\". These filename(s) will be ignored.\n",
      "  .format(n_invalid, x_col)\n"
     ]
    }
   ],
   "source": [
    "train_generator = datagen.flow_from_dataframe(\n",
    "    dataframe = df_train_augemented,\n",
    "    directory = None,\n",
    "    x_col = 'filename', \n",
    "    y_col = 'label_diseases_summerized', \n",
    "    class_mode = 'categorical',\n",
    "    target_size=(224,224), \n",
    "    batch_size=32)"
   ]
  },
  {
   "cell_type": "code",
   "execution_count": 22,
   "metadata": {},
   "outputs": [
    {
     "name": "stdout",
     "output_type": "stream",
     "text": [
      "Found 2182 validated image filenames belonging to 10 classes.\n"
     ]
    },
    {
     "name": "stderr",
     "output_type": "stream",
     "text": [
      "/home/vlba/anaconda3/envs/env_mv/lib/python3.6/site-packages/keras_preprocessing/image/dataframe_iterator.py:282: UserWarning: Found 3 invalid image filename(s) in x_col=\"filename\". These filename(s) will be ignored.\n",
      "  .format(n_invalid, x_col)\n"
     ]
    }
   ],
   "source": [
    "valid_generator = datagen.flow_from_dataframe(\n",
    "    dataframe = df_test_augemented,\n",
    "    directory = None,\n",
    "    x_col = 'filename', \n",
    "    y_col = 'label_diseases_summerized', \n",
    "    class_mode = 'categorical',\n",
    "    target_size=(224,224), \n",
    "    batch_size=1)"
   ]
  },
  {
   "cell_type": "code",
   "execution_count": 17,
   "metadata": {},
   "outputs": [],
   "source": [
    "STEP_SIZE_TRAIN=train_generator.n//train_generator.batch_size\n",
    "STEP_SIZE_VAL=valid_generator.n//valid_generator.batch_size"
   ]
  },
  {
   "cell_type": "code",
   "execution_count": 18,
   "metadata": {
    "scrolled": false
   },
   "outputs": [
    {
     "name": "stderr",
     "output_type": "stream",
     "text": [
      "/home/vlba/anaconda3/envs/env_mv/lib/python3.6/site-packages/tensorflow/python/keras/engine/training.py:1844: UserWarning: `Model.fit_generator` is deprecated and will be removed in a future version. Please use `Model.fit`, which supports generators.\n",
      "  warnings.warn('`Model.fit_generator` is deprecated and '\n"
     ]
    },
    {
     "name": "stdout",
     "output_type": "stream",
     "text": [
      "Epoch 1/10\n",
      "312/312 [==============================] - 160s 501ms/step - loss: 1.2230 - accuracy: 0.5789 - val_loss: 0.7482 - val_accuracy: 0.7269\n",
      "Epoch 2/10\n",
      "312/312 [==============================] - 157s 500ms/step - loss: 0.6104 - accuracy: 0.7843 - val_loss: 0.5498 - val_accuracy: 0.7929\n",
      "Epoch 3/10\n",
      "312/312 [==============================] - 156s 499ms/step - loss: 0.4534 - accuracy: 0.8376 - val_loss: 0.5719 - val_accuracy: 0.8020\n",
      "Epoch 4/10\n",
      "312/312 [==============================] - 156s 496ms/step - loss: 0.3527 - accuracy: 0.8733 - val_loss: 0.4336 - val_accuracy: 0.8515\n",
      "Epoch 5/10\n",
      "312/312 [==============================] - 156s 497ms/step - loss: 0.2764 - accuracy: 0.9041 - val_loss: 0.4034 - val_accuracy: 0.8529\n",
      "Epoch 6/10\n",
      "312/312 [==============================] - 157s 500ms/step - loss: 0.2351 - accuracy: 0.9124 - val_loss: 0.4183 - val_accuracy: 0.8593\n",
      "Epoch 7/10\n",
      "312/312 [==============================] - 157s 498ms/step - loss: 0.2049 - accuracy: 0.9282 - val_loss: 0.4571 - val_accuracy: 0.8506\n",
      "Epoch 1/10\n",
      "312/312 [==============================] - 265s 835ms/step - loss: 1.3378 - accuracy: 0.6911 - val_loss: 0.5469 - val_accuracy: 0.8190\n",
      "Epoch 2/10\n",
      "312/312 [==============================] - 259s 828ms/step - loss: 0.3349 - accuracy: 0.8778 - val_loss: 0.5641 - val_accuracy: 0.8318\n",
      "Epoch 3/10\n",
      "312/312 [==============================] - 260s 831ms/step - loss: 0.2484 - accuracy: 0.9126 - val_loss: 0.3278 - val_accuracy: 0.8827\n",
      "Epoch 4/10\n",
      "312/312 [==============================] - 259s 828ms/step - loss: 0.2273 - accuracy: 0.9189 - val_loss: 0.4370 - val_accuracy: 0.8703\n",
      "Epoch 5/10\n",
      "312/312 [==============================] - 260s 829ms/step - loss: 0.2048 - accuracy: 0.9309 - val_loss: 0.3522 - val_accuracy: 0.9024\n"
     ]
    }
   ],
   "source": [
    "# use base model and append own classification layers on top\n",
    "base_model = efficientnet.EfficientNetB0(weights='imagenet', include_top=False,\n",
    "                                         backend=tf.keras.backend,\n",
    "                                         layers=tf.keras.layers,\n",
    "                                         models=tf.keras.models,\n",
    "                                         utils=tf.keras.utils)\n",
    "\n",
    "x = base_model.output\n",
    "x = GlobalAveragePooling2D()(x)\n",
    "x = Dense(1024,activation='relu')(x)  \n",
    "x = Dense(512,activation='relu')(x) \n",
    "preds = Dense(len(df_train_augemented['label_diseases_summerized'].value_counts()),activation='softmax')(x) \n",
    "model = Model(inputs = base_model.input, outputs = preds)\n",
    "\n",
    "\n",
    "# train only appended head \n",
    "for layer in base_model.layers:\n",
    "    layer.trainable = False\n",
    "\n",
    "model.compile(optimizer='Adam',\n",
    "              loss='categorical_crossentropy',\n",
    "              metrics=['accuracy'])\n",
    "\n",
    "history1 = model.fit_generator(\n",
    "    train_generator,\n",
    "    validation_data=valid_generator,\n",
    "    epochs=10,\n",
    "    steps_per_epoch=STEP_SIZE_TRAIN,\n",
    "    validation_steps = STEP_SIZE_VAL,\n",
    "    workers=8,\n",
    "    callbacks=[callback]\n",
    ")\n",
    "\n",
    "\n",
    "# train all except first 100 layers\n",
    "# len(model.layers) = 239\n",
    "for layer in model.layers[:100]:\n",
    "    layer.trainable = False\n",
    "for layer in model.layers[100:]:\n",
    "    layer.trainable = True\n",
    "    \n",
    "model.compile(optimizer='Adam',\n",
    "              loss='categorical_crossentropy',\n",
    "              metrics=['accuracy'])\n",
    "\n",
    "history2 = model.fit_generator(\n",
    "    train_generator,\n",
    "    validation_data=valid_generator,\n",
    "    epochs=10,\n",
    "    steps_per_epoch=STEP_SIZE_TRAIN,\n",
    "    validation_steps = STEP_SIZE_VAL,\n",
    "    workers=8, \n",
    "    callbacks=[callback]\n",
    ")"
   ]
  },
  {
   "cell_type": "code",
   "execution_count": 20,
   "metadata": {},
   "outputs": [],
   "source": [
    "model.save('model_diseases_reduced_labels_augmented.h5')"
   ]
  },
  {
   "cell_type": "markdown",
   "metadata": {},
   "source": [
    "## Evaluation"
   ]
  },
  {
   "cell_type": "code",
   "execution_count": 21,
   "metadata": {},
   "outputs": [
    {
     "data": {
      "image/png": "[encoded data removed]",
      "text/plain": [
       "<Figure size 432x288 with 1 Axes>"
      ]
     },
     "metadata": {
      "needs_background": "light"
     },
     "output_type": "display_data"
    },
    {
     "data": {
      "image/png": "[encoded data removed]",
      "text/plain": [
       "<Figure size 432x288 with 1 Axes>"
      ]
     },
     "metadata": {
      "needs_background": "light"
     },
     "output_type": "display_data"
    },
    {
     "data": {
      "text/plain": [
       "<Figure size 432x288 with 0 Axes>"
      ]
     },
     "metadata": {},
     "output_type": "display_data"
    }
   ],
   "source": [
    "#plot acc\n",
    "plt.plot(history1.history['accuracy'])\n",
    "plt.plot(history1.history['val_accuracy'])\n",
    "plt.title('model accuracy')\n",
    "plt.ylabel('accuracy')\n",
    "plt.xlabel('epoch')\n",
    "plt.legend(['train', 'val'], loc='upper left')\n",
    "plt.show()\n",
    "plt.savefig('disease_acc_hist1.png')\n",
    "\n",
    "plt.plot(history2.history['accuracy'])\n",
    "plt.plot(history2.history['val_accuracy'])\n",
    "plt.title('model accuracy')\n",
    "plt.ylabel('accuracy')\n",
    "plt.xlabel('epoch')\n",
    "plt.legend(['train', 'val'], loc='upper left')\n",
    "plt.show()\n",
    "plt.savefig('disease_acc_hist2.png')"
   ]
  },
  {
   "cell_type": "code",
   "execution_count": 22,
   "metadata": {},
   "outputs": [
    {
     "data": {
      "image/png": "[encoded data removed]",
      "text/plain": [
       "<Figure size 432x288 with 1 Axes>"
      ]
     },
     "metadata": {
      "needs_background": "light"
     },
     "output_type": "display_data"
    },
    {
     "data": {
      "image/png": "[encoded data removed]",
      "text/plain": [
       "<Figure size 432x288 with 1 Axes>"
      ]
     },
     "metadata": {
      "needs_background": "light"
     },
     "output_type": "display_data"
    },
    {
     "data": {
      "text/plain": [
       "<Figure size 432x288 with 0 Axes>"
      ]
     },
     "metadata": {},
     "output_type": "display_data"
    }
   ],
   "source": [
    "#plot loss\n",
    "plt.plot(history1.history['loss'])\n",
    "plt.plot(history1.history['val_loss'])\n",
    "plt.title('model loss')\n",
    "plt.ylabel('loss')\n",
    "plt.xlabel('epoch')\n",
    "plt.legend(['train', 'val'], loc='upper left')\n",
    "plt.show()\n",
    "plt.savefig('disease_loss_hist1.png')\n",
    "\n",
    "plt.plot(history2.history['loss'])\n",
    "plt.plot(history2.history['val_loss'])\n",
    "plt.title('model loss')\n",
    "plt.ylabel('loss')\n",
    "plt.xlabel('epoch')\n",
    "plt.legend(['train', 'val'], loc='upper left')\n",
    "plt.show()\n",
    "plt.savefig('disease_loss_hist2.png')"
   ]
  },
  {
   "cell_type": "code",
   "execution_count": 23,
   "metadata": {},
   "outputs": [],
   "source": [
    "import efficientnet.tfkeras\n",
    "from tensorflow.keras.models import load_model\n",
    "model = load_model('model_diseases_reduced_labels_augmented.h5')"
   ]
  },
  {
   "cell_type": "code",
   "execution_count": 24,
   "metadata": {},
   "outputs": [],
   "source": [
    "y_true = []\n",
    "y_pred = []\n",
    "\n",
    "label_map = (valid_generator.class_indices)\n",
    "for index, row in df_test_augemented.iterrows():\n",
    "    im = Image.open(row[\"filename\"]).convert('RGB') \n",
    "    im = im.resize((224,224))\n",
    "    im = np.asarray(im).astype(float) / 255.\n",
    "    y_true.append(row['label_diseases_summerized'])\n",
    "    pred = model.predict(im.reshape((1,)+ (224,224,3)))\n",
    "    y_pred.append(list(label_map.keys())[list(label_map.values()).index(np.argmax(pred[0]))])"
   ]
  },
  {
   "cell_type": "code",
   "execution_count": 25,
   "metadata": {},
   "outputs": [
    {
     "name": "stdout",
     "output_type": "stream",
     "text": [
      "Confusion Matrix\n",
      "[[ 42   0   1   0   0   1   2   0   0   0]\n",
      " [  0  33   0   0   0   0   1   0   0   0]\n",
      " [  0   0 459  20   7   2  23   0   8   2]\n",
      " [  0   1  23 339   4   3  33   2  19   3]\n",
      " [  1   1   2   9  98   0   5   0  11   0]\n",
      " [  0   0   4   0   0  75   0   0   0   0]\n",
      " [  0   1   4   8   3   0 500   0   0   0]\n",
      " [  0   0   2   1   0   0   0  97   0   0]\n",
      " [  0   1  13   7   9   0   1   0 191   6]\n",
      " [  0   0   0   1   0   0   0   1   3 102]]\n",
      "Classification Report\n",
      "                            precision    recall  f1-score   support\n",
      "\n",
      "           apple_scab_leaf       0.98      0.91      0.94        46\n",
      "      grape_leaf_black_rot       0.89      0.97      0.93        34\n",
      "                   healthy       0.90      0.88      0.89       521\n",
      "               leaf_blight       0.88      0.79      0.83       427\n",
      " peach_leaf_bacterial_spot       0.81      0.77      0.79       127\n",
      "           peach_leaf_curl       0.93      0.95      0.94        79\n",
      "                 rust_leaf       0.88      0.97      0.93       516\n",
      "squash_powdery_mildew_leaf       0.97      0.97      0.97       100\n",
      "          tomato_leaf_spot       0.82      0.84      0.83       228\n",
      "          tomato_mold_leaf       0.90      0.95      0.93       107\n",
      "\n",
      "                  accuracy                           0.89      2185\n",
      "                 macro avg       0.90      0.90      0.90      2185\n",
      "              weighted avg       0.89      0.89      0.88      2185\n",
      "\n"
     ]
    }
   ],
   "source": [
    "from sklearn.metrics import classification_report, confusion_matrix\n",
    "\n",
    "print('Confusion Matrix')\n",
    "print(confusion_matrix(y_true, y_pred))\n",
    "\n",
    "print('Classification Report')\n",
    "print(classification_report(y_true, y_pred))"
   ]
  },
  {
   "cell_type": "code",
   "execution_count": 26,
   "metadata": {},
   "outputs": [],
   "source": [
    "from numba import cuda\n",
    "cuda.select_device(0)\n",
    "cuda.close()"
   ]
  },
  {
   "cell_type": "code",
   "execution_count": null,
   "metadata": {},
   "outputs": [],
   "source": []
  }
 ],
 "metadata": {
  "kernelspec": {
   "display_name": "env_mv",
   "language": "python",
   "name": "env_mv"
  },
  "language_info": {
   "codemirror_mode": {
    "name": "ipython",
    "version": 3
   },
   "file_extension": ".py",
   "mimetype": "text/x-python",
   "name": "python",
   "nbconvert_exporter": "python",
   "pygments_lexer": "ipython3",
   "version": "3.6.12"
  }
 },
 "nbformat": 4,
 "nbformat_minor": 4
}
